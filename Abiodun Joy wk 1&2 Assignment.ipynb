{
 "cells": [
  {
   "cell_type": "markdown",
   "metadata": {},
   "source": [
    "Assignment 1\n"
   ]
  },
  {
   "cell_type": "code",
   "execution_count": 1,
   "metadata": {},
   "outputs": [
    {
     "name": "stdout",
     "output_type": "stream",
     "text": [
      "Guess a Number: 4\n",
      "Guess is too low\n"
     ]
    }
   ],
   "source": [
    "import random\n",
    "while True:\n",
    "    try:\n",
    "        Guessed_number = random.randint(0, 21)\n",
    "        num= int(input('Guess a Number: '))\n",
    "        if num > Guessed_number:\n",
    "            print('Guess is too high')\n",
    "            break\n",
    "        elif num < Guessed_number:\n",
    "            print('Guess is too low')\n",
    "            break\n",
    "        else:\n",
    "            print('Correct Guess')\n",
    "            break\n",
    "\n",
    "    except:\n",
    "        print('Pls enter an integer')"
   ]
  },
  {
   "cell_type": "markdown",
   "metadata": {},
   "source": [
    "\n",
    "# Assignment 2"
   ]
  },
  {
   "cell_type": "code",
   "execution_count": 3,
   "metadata": {},
   "outputs": [],
   "source": [
    "import random\n",
    "import string"
   ]
  },
  {
   "cell_type": "code",
   "execution_count": 5,
   "metadata": {},
   "outputs": [
    {
     "name": "stdout",
     "output_type": "stream",
     "text": [
      "How long did you want your password to be: \t5\n",
      "Password Length Should be minimum of 6 characters\n"
     ]
    }
   ],
   "source": [
    "flag = True\n",
    "while flag :\n",
    "    try:\n",
    "        length = int(input('How long did you want your password to be: \\t'))\n",
    "        if length > 5:\n",
    "            lower = string.ascii_lowercase\n",
    "            upper = string.ascii_uppercase\n",
    "            number = string.digits\n",
    "            symbols = string.punctuation\n",
    "            npass = f'{lower} {upper} {number} {symbols}'\n",
    "            temp = random.sample(npass,length)\n",
    "            password = ''.join(temp)\n",
    "            print(' ')\n",
    "            print(password)\n",
    "            break\n",
    "        else:\n",
    "            print('Password Length Should be minimum of 6 characters')\n",
    "            break\n",
    "        \n",
    "    except:\n",
    "        print('Length Should be an integer')\n",
    "            "
   ]
  },
  {
   "cell_type": "markdown",
   "metadata": {},
   "source": [
    "Assignment 3"
   ]
  },
  {
   "cell_type": "code",
   "execution_count": null,
   "metadata": {},
   "outputs": [],
   "source": [
    "num = eval(input('Enter a Number: \\t'))\n",
    "\n",
    "flag = False\n",
    "if num > 1:\n",
    "    \n",
    "    for i in range(2, num):\n",
    "        if (num % i ) == 0:\n",
    "            flag = True\n",
    "            break\n",
    "else:\n",
    "    print(\"Prime Numbers can't be less than 1\")\n",
    "    \n",
    "if flag:\n",
    "    print(f'{num} is not a prime number')\n",
    "else:\n",
    "    print(f'{num} is a prime number')"
   ]
  },
  {
   "cell_type": "code",
   "execution_count": null,
   "metadata": {},
   "outputs": [],
   "source": []
  }
 ],
 "metadata": {
  "kernelspec": {
   "display_name": "Python 3",
   "language": "python",
   "name": "python3"
  },
  "language_info": {
   "codemirror_mode": {
    "name": "ipython",
    "version": 3
   },
   "file_extension": ".py",
   "mimetype": "text/x-python",
   "name": "python",
   "nbconvert_exporter": "python",
   "pygments_lexer": "ipython3",
   "version": "3.8.5"
  }
 },
 "nbformat": 4,
 "nbformat_minor": 4
}
